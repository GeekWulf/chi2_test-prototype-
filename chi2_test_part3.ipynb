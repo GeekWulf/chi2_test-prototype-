{
 "cells": [
  {
   "cell_type": "code",
   "execution_count": 7,
   "metadata": {},
   "outputs": [],
   "source": [
    "import numpy as np\n",
    "import pandas as pd\n",
    "from scipy import stats"
   ]
  },
  {
   "cell_type": "markdown",
   "metadata": {},
   "source": [
    "## อิสระ vs ไม่อิสระ"
   ]
  },
  {
   "cell_type": "markdown",
   "metadata": {},
   "source": [
    "- H0 ตัวแปรสองตัวเป็นอิสระต่อกัน (ไม่มีความสัมพันธ์กัน)\n",
    "- H1 ตัวแปรสองตัวไม่เป็นอิสระต่อกัน (มีความสัมพันธ์กัน)"
   ]
  },
  {
   "cell_type": "markdown",
   "metadata": {},
   "source": [
    "![alt text](assets/สกรีนช็อต2025-03-04173449.png \"Title\")"
   ]
  },
  {
   "cell_type": "code",
   "execution_count": 8,
   "metadata": {},
   "outputs": [
    {
     "name": "stdout",
     "output_type": "stream",
     "text": [
      "3.698126886532683 0.29596012095597946 3 [[15.75 10.35  8.1  10.8 ]\n",
      " [19.25 12.65  9.9  13.2 ]]\n",
      "7.814727903251178\n"
     ]
    }
   ],
   "source": [
    "a = 0.05\n",
    "n = 100\n",
    "df = (2 - 1) * (4 - 1) # df = row - 1 * col- 1\n",
    "O = np.array([[15, 13, 5, 12], [20, 10, 13, 12]]) #Observation np.array([A_1, A_2, ... , A_n]) A คือความสัมพันธ์ตัวแรกที่กล่าวถึง โจทย์นี้กล่าวถึง เพศก่อน\n",
    "\n",
    "chi2_cal, p_val, dof, E = stats.chi2_contingency(O, correction = False) #set to tranditional mathod\n",
    "chi2_crit = stats.chi2.isf(a, df = df)\n",
    "print(chi2_cal, p_val, dof, E)\n",
    "print(chi2_crit)"
   ]
  },
  {
   "cell_type": "markdown",
   "metadata": {},
   "source": [
    "p value > a\n",
    "- ยอมรับ H0"
   ]
  },
  {
   "cell_type": "markdown",
   "metadata": {},
   "source": [
    "![alt text](assets/สกรีนช็อต2025-03-04174340.png \"Title\")"
   ]
  },
  {
   "cell_type": "code",
   "execution_count": 9,
   "metadata": {},
   "outputs": [
    {
     "name": "stdout",
     "output_type": "stream",
     "text": [
      "147.2218166279889 8.016615211900999e-31 4 [[141.09565217 124.01565217 161.88869565]\n",
      " [145.72173913 128.08173913 167.19652174]\n",
      " [ 93.1826087   81.9026087  106.91478261]]\n",
      "9.487729036781158\n"
     ]
    }
   ],
   "source": [
    "a = 0.05\n",
    "\n",
    "df = (3 - 1) * (3 - 1)\n",
    "O = np.array([[51, 173, 203], [183, 104, 154], [146, 57, 79]])\n",
    "\n",
    "chi2_cal, p_val, dof, E = stats.chi2_contingency(O, correction = False)\n",
    "chi2_crit = stats.chi2.isf(a, df)\n",
    "\n",
    "print(chi2_cal, p_val, dof, E)\n",
    "print(chi2_crit)"
   ]
  },
  {
   "cell_type": "markdown",
   "metadata": {},
   "source": [
    "p value < a\n",
    "- ยอมรับ H1"
   ]
  }
 ],
 "metadata": {
  "kernelspec": {
   "display_name": "pstat13",
   "language": "python",
   "name": "python3"
  },
  "language_info": {
   "codemirror_mode": {
    "name": "ipython",
    "version": 3
   },
   "file_extension": ".py",
   "mimetype": "text/x-python",
   "name": "python",
   "nbconvert_exporter": "python",
   "pygments_lexer": "ipython3",
   "version": "3.13.0"
  }
 },
 "nbformat": 4,
 "nbformat_minor": 2
}
