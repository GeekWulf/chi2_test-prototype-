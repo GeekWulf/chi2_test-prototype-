{
 "cells": [
  {
   "cell_type": "code",
   "execution_count": 5,
   "metadata": {},
   "outputs": [],
   "source": [
    "import numpy as np\n",
    "import pandas as pd\n",
    "from scipy import stats"
   ]
  },
  {
   "cell_type": "markdown",
   "metadata": {},
   "source": [
    "## Chi2 test ทั่วไปๆ"
   ]
  },
  {
   "cell_type": "markdown",
   "metadata": {},
   "source": [
    "![alt text](assets/481901902_2073416249776861_2200481439699820837_n.jpg \"Title\")"
   ]
  },
  {
   "cell_type": "code",
   "execution_count": 6,
   "metadata": {},
   "outputs": [
    {
     "name": "stdout",
     "output_type": "stream",
     "text": [
      "0.40705563093622793 0.5234677465852949 3.8414588206941285\n"
     ]
    }
   ],
   "source": [
    "n = 100\n",
    "a = 0.05\n",
    "\n",
    "O = np.array([70, 30])\n",
    "P = np.array([2/3, 1/3])\n",
    "E = np.round(P * n)\n",
    "\n",
    "chi2_cal, p_val = stats.chisquare(f_obs = O, f_exp = E)\n",
    "chi2_crit = stats.chi2.isf(a, df = 2 - 1) #จำนวนตัวอย่างคือ 2 กลุุ่ม\n",
    "\n",
    "print(chi2_cal, p_val, chi2_crit)"
   ]
  },
  {
   "cell_type": "markdown",
   "metadata": {},
   "source": [
    "![alt text](assets/482408568_974352028129730_5126922935757700618_n.jpg \"Title\")"
   ]
  },
  {
   "cell_type": "code",
   "execution_count": 7,
   "metadata": {},
   "outputs": [
    {
     "name": "stdout",
     "output_type": "stream",
     "text": [
      "16.0 6.334248366623988e-05 3.8414588206941285\n"
     ]
    }
   ],
   "source": [
    "a = 0.05\n",
    "n = 100\n",
    "\n",
    "O = np.array([70, 30])\n",
    "P = np.array([1/2, 1/2])\n",
    "E = np.round(P * n)\n",
    "\n",
    "chi2_cal, p_val = stats.chisquare(f_obs = O, f_exp = E)\n",
    "chi2_crit = stats.chi2.isf(a, df = 2 - 1) #จำนวนตัวอย่างคือ 2 กลุุ่ม\n",
    "\n",
    "print(chi2_cal, p_val, chi2_crit)"
   ]
  },
  {
   "cell_type": "markdown",
   "metadata": {},
   "source": [
    "![alt text](assets/482423211_1402517224070961_941379378250586391_n.jpg \"Title\")"
   ]
  },
  {
   "cell_type": "code",
   "execution_count": 8,
   "metadata": {},
   "outputs": [
    {
     "name": "stdout",
     "output_type": "stream",
     "text": [
      "2.6228070175438596 0.45350520411140927 6.2513886311703235\n"
     ]
    }
   ],
   "source": [
    "a = 0.1\n",
    "n = 100\n",
    "\n",
    "O = np.array([20, 25, 10, 45])\n",
    "P = np.array([2/8, 2/8, 1/8, 3/8])\n",
    "E = np.round(n * P)\n",
    "\n",
    "chi2_cal, p_val = stats.chisquare(f_obs = O, f_exp = E)\n",
    "chi2_crit =  stats.chi2.isf(a, df = 4 -1) #จำนวนตัวอย่างมี 4 กลุ่ม\n",
    "\n",
    "print(chi2_cal, p_val, chi2_crit)"
   ]
  },
  {
   "cell_type": "markdown",
   "metadata": {},
   "source": [
    "![alt text](assets/สกรีนช็อต2025-03-04154013.png \"Title\")\n"
   ]
  },
  {
   "cell_type": "markdown",
   "metadata": {},
   "source": [
    "![alt text](assets/สกรีนช็อต2025-03-04153939.png \"Title\")\n"
   ]
  },
  {
   "cell_type": "code",
   "execution_count": 9,
   "metadata": {},
   "outputs": [
    {
     "name": "stdout",
     "output_type": "stream",
     "text": [
      "1.92 0.16585666034290605 3.8414588206941285\n"
     ]
    }
   ],
   "source": [
    "a = 0.05\n",
    "n = 100\n",
    "\n",
    "O = np.array([69, 31])\n",
    "P = np.array([3/4, 1/4])\n",
    "E = n * P\n",
    "\n",
    "chi2_cal, p_val = stats.chisquare(f_obs = O, f_exp = E)\n",
    "chi2_crit = stats.chi2.isf(a, df = 2 - 1) #ข้อมูลมี 2 กลุ่ม\n",
    "\n",
    "print(chi2_cal, p_val, chi2_crit)"
   ]
  }
 ],
 "metadata": {
  "kernelspec": {
   "display_name": "pstat13",
   "language": "python",
   "name": "python3"
  },
  "language_info": {
   "codemirror_mode": {
    "name": "ipython",
    "version": 3
   },
   "file_extension": ".py",
   "mimetype": "text/x-python",
   "name": "python",
   "nbconvert_exporter": "python",
   "pygments_lexer": "ipython3",
   "version": "3.13.0"
  }
 },
 "nbformat": 4,
 "nbformat_minor": 2
}
