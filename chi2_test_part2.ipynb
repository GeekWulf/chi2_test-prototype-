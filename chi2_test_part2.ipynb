{
 "cells": [
  {
   "cell_type": "code",
   "execution_count": 1,
   "metadata": {},
   "outputs": [],
   "source": [
    "import numpy as np\n",
    "import pandas as pd\n",
    "from scipy import stats"
   ]
  },
  {
   "cell_type": "markdown",
   "metadata": {},
   "source": [
    "## การทดสอบว่าเป็นการแจกแจงปกติหรือไม่ (ขั้นตอนเยอะชิบหาย)"
   ]
  },
  {
   "cell_type": "markdown",
   "metadata": {},
   "source": [
    "ในส่วนนี้เราจะดูว่าตารางที่ให้มามันแจกแจงปกติไหม\n",
    "- H0 แจกแจงปกติ\n",
    "- H1 แจกแจงไม่ปกติ"
   ]
  },
  {
   "cell_type": "code",
   "execution_count": 2,
   "metadata": {},
   "outputs": [],
   "source": [
    "n = 125"
   ]
  },
  {
   "cell_type": "markdown",
   "metadata": {},
   "source": [
    "![alt text](assets/สกรีนช็อต2025-03-04160602.png \"Title\")"
   ]
  },
  {
   "cell_type": "markdown",
   "metadata": {},
   "source": [
    "เราต้องเพิ่ม ขอบเขตบน ขอบเขตล่างก่อน"
   ]
  },
  {
   "cell_type": "markdown",
   "metadata": {},
   "source": [
    "![alt text](assets/สกรีนช็อต2025-03-04160952.png \"Title\")"
   ]
  },
  {
   "cell_type": "code",
   "execution_count": 3,
   "metadata": {},
   "outputs": [],
   "source": [
    "O = np.array([0, 28, 32, 35, 20, 10, 0]) #observation\n",
    "x_l = np.array([-np.inf, 44.95, 46.95, 48.95, 50.95, 52.95, 54.95]) #lower boundary\n",
    "x_r = np.array([44.95, 46.95, 48.95, 50.95, 52.95, 54.95, np.inf])  #upper boundary\n",
    "x = (x_l + x_r) / 2 #ค่ากลาง"
   ]
  },
  {
   "cell_type": "markdown",
   "metadata": {},
   "source": [
    "![alt text](assets/สกรีนช็อต2025-03-04161942.png \"Title\")"
   ]
  },
  {
   "cell_type": "markdown",
   "metadata": {},
   "source": [
    "เราต้อง treat มันเหมือนเป็นข้อมูลที่แจกแจงปกติแล้ว ทีนี้เราต้องประมาณค่าจากประชากร พบว่าถ้าเราจะ treat มันให้เหมือนกับข้อมูลที่แจกแจงปกติ ต้องประค่า 2 ค่าคือ \n",
    "- u ต้วย x̄  (ค่าเฉลี่ย)\n",
    "- ρ ด้วย s  (ค่าความแปรปรวน)"
   ]
  },
  {
   "cell_type": "code",
   "execution_count": 4,
   "metadata": {},
   "outputs": [],
   "source": [
    "m = 2"
   ]
  },
  {
   "cell_type": "code",
   "execution_count": 5,
   "metadata": {},
   "outputs": [],
   "source": [
    "x_bar = sum(O[1:-1]*x[1:-1]) / n\n",
    "s = np.sqrt(sum(O[1:-1] * (x[1:-1] - x_bar) ** 2) / (n - 1))\n",
    "\n",
    "z_l = (x_l - x_bar) / s #lower z_boundary\n",
    "z_r = (x_r - x_bar) / s #upper z_boundary\n",
    "Pz = stats.norm.cdf(z_r) - stats.norm.cdf(z_l) #each row"
   ]
  },
  {
   "cell_type": "markdown",
   "metadata": {},
   "source": [
    "หาค่า Ei เพื่อพิจารณาการรวมชั้น ถ้า Ei < 5 จะไปรวมกับชั้นอื่น"
   ]
  },
  {
   "cell_type": "code",
   "execution_count": 6,
   "metadata": {},
   "outputs": [
    {
     "name": "stdout",
     "output_type": "stream",
     "text": [
      "[ 5.23005718 17.37159856 35.17676889 37.85209069 21.64801473  6.57161447\n",
      "  1.14985548]\n"
     ]
    }
   ],
   "source": [
    "E = n * Pz\n",
    "print(E)"
   ]
  },
  {
   "cell_type": "markdown",
   "metadata": {},
   "source": [
    "![alt text](assets/สกรีนช็อต2025-03-04163355.png \"Title\")"
   ]
  },
  {
   "cell_type": "markdown",
   "metadata": {},
   "source": [
    "![alt text](assets/สกรีนช็อต2025-03-04163643.png \"Title\")"
   ]
  },
  {
   "cell_type": "markdown",
   "metadata": {},
   "source": [
    "เมื่อได้ตารางที่ถูกปรับแล้ว ให้หา\n",
    "- adjust observation\n",
    "- adjust expectation"
   ]
  },
  {
   "cell_type": "code",
   "execution_count": 7,
   "metadata": {},
   "outputs": [],
   "source": [
    "O_adj = np.append(O[0:-2], O[-1] + O[-2]) #O[0:-2] เพราะรวมแถวที่ 1 ถึง รองรอง สุดท้าย แล้วค่อยมาบวกผลรวมของแถว รองสุดท้ายกับแถวสุดท้าย\n",
    "E_adj = np.append(E[0:-2], E[-1] + E[-2]) #E[0:-2] เพราะรวมแถวที่ 1 ถึง รองรอง สุดท้าย แล้วค่อยมาบวกผลรวมของแถว รองสุดท้ายกับแถวสุดท้าย"
   ]
  },
  {
   "cell_type": "markdown",
   "metadata": {},
   "source": [
    "คำนวณหาได้เลย"
   ]
  },
  {
   "cell_type": "code",
   "execution_count": 8,
   "metadata": {},
   "outputs": [
    {
     "name": "stdout",
     "output_type": "stream",
     "text": [
      "13.032414699934208 0.004567028584983044 7.814727903251178\n"
     ]
    }
   ],
   "source": [
    "a = 0.05\n",
    "df = 6 - m - 1 #ตารางมี 6 ชั้น จากสูตร df = k - m - 1\n",
    "\n",
    "chi2_cal, p_val = stats.chisquare(f_obs = O_adj, f_exp = E_adj, ddof = m)\n",
    "chi2_crit = stats.chi2.isf(a, df = df)\n",
    "\n",
    "print(chi2_cal, p_val, chi2_crit)"
   ]
  },
  {
   "cell_type": "markdown",
   "metadata": {},
   "source": [
    "- P value < a\n",
    "- ยอมรับ H0 ข้อมูลนี้แจกแจงปกติ"
   ]
  }
 ],
 "metadata": {
  "kernelspec": {
   "display_name": "pstat13",
   "language": "python",
   "name": "python3"
  },
  "language_info": {
   "codemirror_mode": {
    "name": "ipython",
    "version": 3
   },
   "file_extension": ".py",
   "mimetype": "text/x-python",
   "name": "python",
   "nbconvert_exporter": "python",
   "pygments_lexer": "ipython3",
   "version": "3.13.0"
  }
 },
 "nbformat": 4,
 "nbformat_minor": 2
}
